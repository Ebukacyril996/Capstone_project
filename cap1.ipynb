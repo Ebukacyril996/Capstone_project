{
 "cells": [
  {
   "cell_type": "code",
   "execution_count": 1,
   "id": "3ac3d8e6-51c9-4d00-bf05-5822ea6957e9",
   "metadata": {},
   "outputs": [],
   "source": [
    "#CAPSTONE PROJECT; LENDING IN ZAMBIA"
   ]
  },
  {
   "cell_type": "code",
   "execution_count": 88,
   "id": "1145be9b-f7dd-4fae-ba22-22822d95128c",
   "metadata": {},
   "outputs": [],
   "source": [
    "import pandas as pd \n",
    "from faker import Faker\n",
    "import random \n",
    "import matplotlib.pyplot as plt \n",
    "import seaborn as sns"
   ]
  },
  {
   "cell_type": "code",
   "execution_count": 89,
   "id": "3126ac81-4448-4df4-ae32-b2b82a8ba4dd",
   "metadata": {},
   "outputs": [
    {
     "name": "stdout",
     "output_type": "stream",
     "text": [
      "Requirement already satisfied: faker in c:\\users\\ebuca\\anaconda3\\lib\\site-packages (36.1.1)\n",
      "Requirement already satisfied: tzdata in c:\\users\\ebuca\\anaconda3\\lib\\site-packages (from faker) (2023.3)\n"
     ]
    }
   ],
   "source": [
    "!pip install faker"
   ]
  },
  {
   "cell_type": "code",
   "execution_count": 166,
   "id": "fefbaba2-8655-416c-a422-b2b1738eadce",
   "metadata": {},
   "outputs": [
    {
     "name": "stdout",
     "output_type": "stream",
     "text": [
      "               bitcoin_date    price  bitcoin_sats  one_dollar_sats\n",
      "0   2017-08-02 00:00:00 UTC  2697.85   100000000.0            37067\n",
      "1   2017-08-03 00:00:00 UTC  2777.37   100000000.0            36005\n",
      "2   2017-08-04 00:00:00 UTC  2845.90   100000000.0            35138\n",
      "3   2017-08-05 00:00:00 UTC  3237.07   100000000.0            30892\n",
      "4   2017-08-06 00:00:00 UTC  3189.73   100000000.0            31351\n",
      "5   2017-08-07 00:00:00 UTC  3356.71   100000000.0            29791\n",
      "6   2017-08-08 00:00:00 UTC  3410.45   100000000.0            29322\n",
      "7   2017-08-09 00:00:00 UTC  3330.90   100000000.0            30022\n",
      "8   2017-08-10 00:00:00 UTC  3367.91   100000000.0            29692\n",
      "9   2017-08-11 00:00:00 UTC  3562.59   100000000.0            28069\n",
      "10  2017-08-12 00:00:00 UTC  3800.14   100000000.0            26315\n",
      "11  2017-08-13 00:00:00 UTC  4023.25   100000000.0            24855\n",
      "12  2017-08-14 00:00:00 UTC  4175.70   100000000.0            23948\n",
      "13  2017-08-15 00:00:00 UTC  4149.31   100000000.0            24100\n",
      "14  2017-08-16 00:00:00 UTC  4262.56   100000000.0            23460\n",
      "15  2017-08-17 00:00:00 UTC  4286.92   100000000.0            23327\n",
      "16  2017-08-18 00:00:00 UTC  4097.69   100000000.0            24404\n",
      "17  2017-08-19 00:00:00 UTC  4115.21   100000000.0            24300\n",
      "18  2017-08-20 00:00:00 UTC  4001.23   100000000.0            24992\n",
      "19  2017-08-21 00:00:00 UTC  3935.23   100000000.0            25411\n"
     ]
    }
   ],
   "source": [
    "btc_data = pd.read_csv(r\"C:\\Users\\ebuca\\OneDrive\\Documents\\DA13\\Python\\projects\\Capstone_project\\btc-usd-max.csv\")\n",
    "print(btc_data.head(20))"
   ]
  },
  {
   "cell_type": "code",
   "execution_count": 168,
   "id": "bf846e36-b028-4e64-b0aa-0e7319c090be",
   "metadata": {},
   "outputs": [
    {
     "name": "stdout",
     "output_type": "stream",
     "text": [
      "Index(['names', 'profession', 'job_length', 'state', 'homeownership',\n",
      "       'annual_income', 'debt_to_income', 'earliest_credit_line',\n",
      "       'total_credit_lines', 'total_credit_limit', 'total_credit_utilized',\n",
      "       'loan_purpose', 'loan_amount', 'term', 'interest_rate', 'installment',\n",
      "       'total_payment', '10% of monthly', 'bitcoin strategy', 'issue_month',\n",
      "       'issue_date'],\n",
      "      dtype='object')\n",
      "            Names             names          profession  job_length state  \\\n",
      "0      Stacy Frey       Tina Parker             realtor         7.0    CO   \n",
      "1    Kelly Cooper       Joshua Park                 NaN         NaN    CA   \n",
      "2     Sandra Kidd       Mark Keller                 NaN         NaN    CA   \n",
      "3      Jason Hunt     Andrew Morgan                 NaN         NaN    CA   \n",
      "4  Kristin Gordon       Diana Mills     quality control         1.0    MO   \n",
      "5   Frank Beasley    Jennifer House                 NaN         NaN    NC   \n",
      "6    James Turner     Michael Smith  payroll manager/ar         6.0    CO   \n",
      "7     Wendy Young   Mr. Scott Scott                 NaN         NaN    AL   \n",
      "8   Timothy Smith  Richard Campbell              driver         5.0    GA   \n",
      "9  Curtis Baldwin     Jeremy Flores                 NaN         NaN    LA   \n",
      "\n",
      "  homeownership annual_income  debt_to_income  earliest_credit_line  \\\n",
      "0          RENT       150,000           18.80                  1963   \n",
      "1      MORTGAGE       110,000           11.20                  1963   \n",
      "2           OWN        50,256           28.37                  1964   \n",
      "3      MORTGAGE        32,000           10.92                  1965   \n",
      "4          RENT        70,000            8.61                  1966   \n",
      "5           OWN        54,032           30.52                  1967   \n",
      "6           OWN       106,000           23.54                  1967   \n",
      "7      MORTGAGE        59,871           29.17                  1968   \n",
      "8      MORTGAGE       700,000            1.48                  1968   \n",
      "9          RENT        13,390           80.18                  1969   \n",
      "\n",
      "   total_credit_lines  ...        loan_purpose loan_amount term  \\\n",
      "0                  15  ...  debt_consolidation       22500   36   \n",
      "1                  20  ...    home_improvement       15000   60   \n",
      "2                  26  ...               other        5000   36   \n",
      "3                  32  ...  debt_consolidation       12000   36   \n",
      "4                  21  ...  debt_consolidation       30000   36   \n",
      "5                  23  ...  debt_consolidation        2500   36   \n",
      "6                  20  ...  debt_consolidation       36000   60   \n",
      "7                  44  ...  debt_consolidation       10000   36   \n",
      "8                   5  ...               other        5600   36   \n",
      "9                  17  ...         credit_card       31675   36   \n",
      "\n",
      "   interest_rate  installment  total_payment 10% of monthly  bitcoin strategy  \\\n",
      "0           5.31          677          26084             68               NaN   \n",
      "1           7.34          299          20505             30               NaN   \n",
      "2           6.07          152           5911             15               NaN   \n",
      "3          11.99          399          16316             40               NaN   \n",
      "4          10.90          981          39810             98               NaN   \n",
      "5          20.00           93           4000              9               NaN   \n",
      "6           9.44          755          52992             76               NaN   \n",
      "7           7.97          313          12391             31               NaN   \n",
      "8          12.62          188           7720             19               NaN   \n",
      "9           6.71          974          38051             97               NaN   \n",
      "\n",
      "   issue_month  issue_date  \n",
      "0       18-Mar  2018-03-01  \n",
      "1       18-Mar  2018-03-01  \n",
      "2       18-Mar  2018-03-01  \n",
      "3       18-Feb  2018-02-01  \n",
      "4       18-Mar  2018-03-01  \n",
      "5       18-Jan  2018-01-01  \n",
      "6       18-Jan  2018-01-01  \n",
      "7       18-Feb  2018-02-01  \n",
      "8       18-Jan  2018-01-01  \n",
      "9       18-Mar  2018-03-01  \n",
      "\n",
      "[10 rows x 22 columns]\n"
     ]
    }
   ],
   "source": [
    "data = pd.read_csv(r\"C:\\Users\\ebuca\\OneDrive\\Documents\\DA13\\Python\\projects\\Capstone_project\\updated_loan_data.csv\")\n",
    "fake = Faker()\n",
    "def assign_random_names(df):\n",
    "    df['Names'] = [fake.name() for _ in range(len(df))]\n",
    "    cols = ['Names'] + [col for col in df.columns if col != 'Names']  # Reorder columns\n",
    "    return df[cols]\n",
    "    \n",
    "data.columns = data.columns.str.strip().str.lower()  # Remove spaces & lowercase\n",
    "print(data.columns)  \n",
    "\n",
    "# Convert 'issue_month' to a full date format, assuming the 1st of each month\n",
    "data['issue_date'] = pd.to_datetime(data['issue_month'], format='%y-%b') + pd.offsets.MonthBegin(0)\n",
    "\n",
    "data = assign_random_names(data)\n",
    "print(data.head(10))"
   ]
  },
  {
   "cell_type": "code",
   "execution_count": 169,
   "id": "b4355bd8-4fdb-426f-b9bd-8a3c638206c1",
   "metadata": {},
   "outputs": [
    {
     "name": "stdout",
     "output_type": "stream",
     "text": [
      "Total Loan Amount: $163,619,225.00\n"
     ]
    }
   ],
   "source": [
    "total_loan_amount = data['loan_amount'].sum()\n",
    "print(f\"Total Loan Amount: ${total_loan_amount:,.2f}\")\n",
    "\n"
   ]
  },
  {
   "cell_type": "code",
   "execution_count": 172,
   "id": "d63ad788-677a-4b16-81f2-e9939b3fbe36",
   "metadata": {},
   "outputs": [
    {
     "name": "stdout",
     "output_type": "stream",
     "text": [
      "profession\n",
      "manager             3813425\n",
      "owner               3557825\n",
      "teacher             3256775\n",
      "driver              1885700\n",
      "sales               1695825\n",
      "registered nurse    1542925\n",
      "rn                  1428125\n",
      "president           1317650\n",
      "supervisor          1246625\n",
      "truck driver        1053800\n",
      "Name: loan_amount, dtype: int64\n"
     ]
    }
   ],
   "source": [
    "\n",
    "# finding which profession took the most loans\n",
    "profession_loans = data.groupby('profession')['loan_amount'].sum().sort_values(ascending=False)\n",
    "\n",
    "print(profession_loans.head(10))\n"
   ]
  },
  {
   "cell_type": "code",
   "execution_count": 174,
   "id": "f0039a0b-e071-49eb-93e3-f29be996eb13",
   "metadata": {},
   "outputs": [
    {
     "name": "stdout",
     "output_type": "stream",
     "text": [
      "Percentage of 'owners' in CA: 16.18%\n"
     ]
    }
   ],
   "source": [
    "## fidning percentage of owners from the cali region\n",
    "\n",
    "data['profession'] = data['profession'].str.lower()\n",
    "\n",
    "\n",
    "total_owners = data[data['profession'] == 'owner'].shape[0]\n",
    "\n",
    "# Number of \"owners\" in (CA)\n",
    "owners_in_ca = data[(data['state'] == 'CA') & (data['profession'] == 'owner')].shape[0]\n",
    "\n",
    "#percentage\n",
    "percentage_owners_in_ca = (owners_in_ca / total_owners) * 100 if total_owners > 0 else 0\n",
    "\n",
    "print(f\"Percentage of 'owners' in CA: {percentage_owners_in_ca:.2f}%\")\n"
   ]
  },
  {
   "cell_type": "code",
   "execution_count": 176,
   "id": "8f55d597-7699-4169-8c6f-6218b9f3b682",
   "metadata": {},
   "outputs": [],
   "source": [
    "#total amount of loans given out this quater?"
   ]
  },
  {
   "cell_type": "code",
   "execution_count": 178,
   "id": "60f5dd46-b4af-4320-aaa0-173cd0985a9c",
   "metadata": {},
   "outputs": [
    {
     "name": "stdout",
     "output_type": "stream",
     "text": [
      "   state  loan_percentage\n",
      "1     CA        13.490896\n",
      "2     TX         8.406882\n",
      "3     NY         7.694481\n",
      "4     FL         6.847407\n",
      "5     IL         4.141689\n",
      "6     NJ         3.462827\n",
      "7     GA         3.389149\n",
      "8     OH         3.321202\n",
      "9     NC         2.939279\n",
      "10    PA         2.851636\n"
     ]
    }
   ],
   "source": [
    "# percentage of each state loan amount relative to the total amount\n",
    "state_loan_totals = data.groupby('state')['loan_amount'].sum()  # Use correct column name\n",
    "\n",
    "# Calculate percentage of each state's total loan amount relative to the overall loan amount\n",
    "state_loan_percentage = (state_loan_totals / state_loan_totals.sum()) * 100\n",
    "\n",
    "# Convert to DataFrame properly\n",
    "state_loan_percentage = state_loan_percentage.reset_index()\n",
    "\n",
    "# Rename columns for clarity\n",
    "state_loan_percentage.columns = ['state', 'loan_percentage']\n",
    "\n",
    "#Sorting descending order to show the states with the highest loan amounts\n",
    "state_loan_percentage = state_loan_percentage.sort_values('loan_percentage', ascending=False)\n",
    "\n",
    "state_loan_percentage.index = range(1, len(state_loan_percentage) + 1)\n",
    "\n",
    "top_10_states = state_loan_percentage.head(10)\n",
    "print(top_10_states)\n",
    "\n",
    "\n",
    "\n",
    "\n"
   ]
  },
  {
   "cell_type": "code",
   "execution_count": 198,
   "id": "c3d76786-a07c-4a8e-bf6f-8f4ff6c4a561",
   "metadata": {},
   "outputs": [
    {
     "name": "stdout",
     "output_type": "stream",
     "text": [
      "              Names                    profession                issue_date  \\\n",
      "0     Jordan Walton  program development director 2018-01-01 00:00:00+00:00   \n",
      "1           Roy Ray                        sales  2018-01-01 00:00:00+00:00   \n",
      "2       John Holmes                           NaN 2018-01-01 00:00:00+00:00   \n",
      "3      Allison Bass                    supervisor 2018-01-01 00:00:00+00:00   \n",
      "4  Michael Harrison                office manager 2018-01-01 00:00:00+00:00   \n",
      "\n",
      "   10% of monthly     price  satoshis_bought  \n",
      "0              52  14093.61    368961.536469  \n",
      "1              48  14093.61    340579.879818  \n",
      "2              11  14093.61     78049.555792  \n",
      "3              61  14093.61    432820.263935  \n",
      "4              18  14093.61    127717.454932  \n"
     ]
    }
   ],
   "source": [
    "\n",
    "## Convert 'issue_date' in loan_data to datetime format (same as bitcoin_date format)\n",
    "# Check if the 'issue_date' is already timezone-aware\n",
    "if data['issue_date'].dt.tz is None:\n",
    "    # If not, localize to UTC\n",
    "    data['issue_date'] = pd.to_datetime(data['issue_date']).dt.tz_localize('UTC')\n",
    "else:\n",
    "    # If already timezone-aware, convert to UTC\n",
    "    data['issue_date'] = data['issue_date'].dt.tz_convert('UTC')\n",
    "\n",
    "# Now, merge the two datasets on the date (nearest match for each customer)\n",
    "merged_data = pd.merge_asof(data.sort_values('issue_date'), \n",
    "                            btc_data.sort_values('bitcoin_date'),\n",
    "                            left_on='issue_date', right_on='bitcoin_date', \n",
    "                            direction='nearest')\n",
    "\n",
    "# Now, calculate the satoshis bought for each customer using their 10% monthly repayment\n",
    "merged_data['satoshis_bought'] = (merged_data['10% of monthly'] / merged_data['price']) * 100000000\n",
    "\n",
    "# Show the first few rows of the merged data\n",
    "print(merged_data[['Names', 'profession', 'issue_date', '10% of monthly', 'price', 'satoshis_bought']].head())\n",
    "\n"
   ]
  },
  {
   "cell_type": "code",
   "execution_count": null,
   "id": "f0b6650f-ad2a-4b8c-8a2c-40dac5307253",
   "metadata": {},
   "outputs": [],
   "source": []
  },
  {
   "cell_type": "code",
   "execution_count": null,
   "id": "72112b3d-eeb7-42fa-8b4a-20d43adcec95",
   "metadata": {},
   "outputs": [],
   "source": []
  }
 ],
 "metadata": {
  "kernelspec": {
   "display_name": "Python 3 (ipykernel)",
   "language": "python",
   "name": "python3"
  },
  "language_info": {
   "codemirror_mode": {
    "name": "ipython",
    "version": 3
   },
   "file_extension": ".py",
   "mimetype": "text/x-python",
   "name": "python",
   "nbconvert_exporter": "python",
   "pygments_lexer": "ipython3",
   "version": "3.12.7"
  }
 },
 "nbformat": 4,
 "nbformat_minor": 5
}
